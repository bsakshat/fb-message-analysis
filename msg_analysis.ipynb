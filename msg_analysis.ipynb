{
 "cells": [
  {
   "cell_type": "code",
   "execution_count": 4,
   "metadata": {},
   "outputs": [],
   "source": [
    "import json"
   ]
  },
  {
   "cell_type": "code",
   "execution_count": 5,
   "metadata": {},
   "outputs": [],
   "source": [
    "with open(\"json_out.json\") as f:\n",
    "    msg = json.load(f)"
   ]
  },
  {
   "cell_type": "code",
   "execution_count": 4,
   "metadata": {},
   "outputs": [],
   "source": [
    "total_count = 0\n",
    "details = {}\n",
    "for p in msg['messages']:\n",
    "    details[p['sender']] = {'count': 0}"
   ]
  },
  {
   "cell_type": "code",
   "execution_count": 5,
   "metadata": {},
   "outputs": [],
   "source": [
    "words = {}"
   ]
  },
  {
   "cell_type": "code",
   "execution_count": 6,
   "metadata": {},
   "outputs": [],
   "source": [
    "for m in msg['messages']:\n",
    "    total_count += len(m['message'].split())\n",
    "    for d in details:\n",
    "        if m['sender'] == d:\n",
    "            details[d]['count'] += len(m['message'].split())\n",
    "    word = m['message'].strip().split()\n",
    "    for w in word:\n",
    "        wl = w.lower()\n",
    "        if wl not in words:\n",
    "            words[wl] = {'count': 1}\n",
    "            for p in details:\n",
    "                words[wl][p] = 0\n",
    "            words[wl][m['sender']] = 1\n",
    "        else:\n",
    "            words[wl]['count'] += 1\n",
    "            words[wl][m['sender']] += 1"
   ]
  },
  {
   "cell_type": "markdown",
   "metadata": {},
   "source": [
    "print(total_count)\n",
    "print(details)"
   ]
  },
  {
   "cell_type": "code",
   "execution_count": 7,
   "metadata": {},
   "outputs": [
    {
     "data": {
      "text/plain": [
       "26238"
      ]
     },
     "execution_count": 7,
     "metadata": {},
     "output_type": "execute_result"
    }
   ],
   "source": [
    "len(words)"
   ]
  },
  {
   "cell_type": "markdown",
   "metadata": {},
   "source": [
    "No. of unique words/characters/symbols/emojis: 26238"
   ]
  },
  {
   "cell_type": "raw",
   "metadata": {},
   "source": [
    "with open('words.json', 'w') as wfile:\n",
    "    json.dump(words, wfile, indent=4)"
   ]
  },
  {
   "cell_type": "code",
   "execution_count": 8,
   "metadata": {},
   "outputs": [],
   "source": [
    "sorted_words = sorted(words.items(), key=lambda word: word[1]['count'], reverse = True)\n",
    "stop_words = []\n",
    "i = 0\n",
    "for s in sorted_words:\n",
    "    i += 1\n",
    "    #print(s[0], \":\", s[1]['count'])\n",
    "    stop_words.append(s[0])\n",
    "    if i > 100:\n",
    "        break"
   ]
  },
  {
   "cell_type": "raw",
   "metadata": {},
   "source": [
    "for i in stop_words:\n",
    "    print(i)"
   ]
  },
  {
   "cell_type": "code",
   "execution_count": 9,
   "metadata": {},
   "outputs": [],
   "source": [
    "parts = {k: {} for k in details}"
   ]
  },
  {
   "cell_type": "code",
   "execution_count": 10,
   "metadata": {},
   "outputs": [],
   "source": [
    "for k, v in words.items():\n",
    "    for i in v:\n",
    "        if i == 'count':\n",
    "            continue\n",
    "        else:\n",
    "            if v[i] != 0:\n",
    "                parts[i][k] = v[i]"
   ]
  },
  {
   "cell_type": "code",
   "execution_count": 11,
   "metadata": {},
   "outputs": [],
   "source": [
    "parts_sorted = {}"
   ]
  },
  {
   "cell_type": "code",
   "execution_count": 12,
   "metadata": {},
   "outputs": [],
   "source": [
    "for i in parts:\n",
    "    parts_sorted[i] = sorted(parts[i].items(), key=lambda part: part[1], reverse=True)"
   ]
  },
  {
   "cell_type": "markdown",
   "metadata": {},
   "source": [
    "input_word = input(\"Enter the word:\")\n",
    "print(words[input_word])"
   ]
  },
  {
   "cell_type": "code",
   "execution_count": null,
   "metadata": {},
   "outputs": [],
   "source": [
    "for i in parts_sorted:\n",
    "    print(i)\n",
    "    for j in range(100):\n",
    "        print(parts_sorted[i][j][0])\n",
    "    #print('\\n\\n\\n')"
   ]
  },
  {
   "cell_type": "code",
   "execution_count": null,
   "metadata": {},
   "outputs": [],
   "source": []
  }
 ],
 "metadata": {
  "kernelspec": {
   "display_name": "Python 3",
   "language": "python",
   "name": "python3"
  },
  "language_info": {
   "codemirror_mode": {
    "name": "ipython",
    "version": 3
   },
   "file_extension": ".py",
   "mimetype": "text/x-python",
   "name": "python",
   "nbconvert_exporter": "python",
   "pygments_lexer": "ipython3",
   "version": "3.8.2"
  }
 },
 "nbformat": 4,
 "nbformat_minor": 4
}
